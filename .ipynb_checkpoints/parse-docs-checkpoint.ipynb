{
 "cells": [
  {
   "cell_type": "code",
   "execution_count": 10,
   "id": "d6e7e2f8-471f-493c-805d-b3b706293646",
   "metadata": {},
   "outputs": [
    {
     "name": "stdout",
     "output_type": "stream",
     "text": [
      "Formatted JSON file created successfully.\n"
     ]
    }
   ],
   "source": [
    "import json\n",
    "\n",
    "# Load the downloaded dataset\n",
    "with open('dataset.json', 'r') as f:\n",
    "    response = json.load(f)\n",
    "\n",
    "# Extract rows from the response\n",
    "rows = response.get('rows', [])\n",
    "\n",
    "# Prepare the data in the desired format\n",
    "data = []\n",
    "for row in rows:\n",
    "    row_data = row.get('row', {})\n",
    "    # Adjust keys according to the actual structure\n",
    "    data.append({\n",
    "        \"id\": row.get('id', 'unknown_id'),  # Assuming there is an 'id' field in the top-level row\n",
    "        \"question\": row_data.get('question', 'unknown_question'),  # Extract question\n",
    "        \"answer\": row_data.get('answer', 'unknown_answer'),  # Extract answer\n",
    "        \"source\": row_data.get('source', 'unknown_source')\n",
    "    })\n",
    "\n",
    "# Creating the JSON structure\n",
    "dataset = {\n",
    "    \"dataset\": \"im-feeling-curious\",\n",
    "    \"description\": \"A collection of interesting Q&A pairs.\",\n",
    "    \"questions\": data\n",
    "}\n",
    "\n",
    "# Saving to a new JSON file\n",
    "with open('project.json', 'w') as f:\n",
    "    json.dump(dataset, f, indent=4)\n",
    "\n",
    "print(\"Formatted JSON file created successfully.\")\n"
   ]
  },
  {
   "cell_type": "code",
   "execution_count": 11,
   "id": "56bef7ff-cbd0-41ca-95c7-6ebec06a5cd0",
   "metadata": {},
   "outputs": [
    {
     "name": "stdout",
     "output_type": "stream",
     "text": [
      "{\n",
      "    \"dataset\": \"im-feeling-curious\",\n",
      "    \"description\": \"A collection of interesting Q&A pairs.\",\n",
      "    \"questions\": [\n",
      "        {\n",
      "            \"id\": \"unknown_id\",\n",
      "            \"question\": \"Who said a journey of a thousand miles begins with a single step?\",\n",
      "            \"answer\": \"In this quote, Lao Tzu is trying to express that great things start from humble beginnings. In the original, the text refers to \\\"1,000 li journey\\\". A li is an old Chinese measure of distance which converts to 360 miles or 576 km.e.\",\n",
      "            \"source\": \"http://www.bbc.co.uk/worldservice/learningenglish/movingwords/shortlist/laotzu.shtml\"\n",
      "        },\n"
     ]
    }
   ],
   "source": [
    "!head project.json"
   ]
  },
  {
   "cell_type": "code",
   "execution_count": null,
   "id": "a7edd878-f7ee-4370-ab4c-0a1c4ed63656",
   "metadata": {},
   "outputs": [],
   "source": []
  }
 ],
 "metadata": {
  "kernelspec": {
   "display_name": "Python 3 (ipykernel)",
   "language": "python",
   "name": "python3"
  },
  "language_info": {
   "codemirror_mode": {
    "name": "ipython",
    "version": 3
   },
   "file_extension": ".py",
   "mimetype": "text/x-python",
   "name": "python",
   "nbconvert_exporter": "python",
   "pygments_lexer": "ipython3",
   "version": "3.10.13"
  }
 },
 "nbformat": 4,
 "nbformat_minor": 5
}
