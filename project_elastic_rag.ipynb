{
 "cells": [
  {
   "cell_type": "code",
   "execution_count": 1,
   "id": "5f0b8c8a-0460-4d92-be98-3d90cf5430cb",
   "metadata": {},
   "outputs": [],
   "source": [
    "import json\n",
    "\n",
    "# Load the original JSON file\n",
    "with open('project.json', 'r') as f:\n",
    "    original_data = json.load(f)\n",
    "\n",
    "# Extract the dataset name and description\n",
    "dataset_name = original_data.get(\"dataset\", \"unknown_dataset\")\n",
    "description = original_data.get(\"description\", \"No description available\")\n",
    "\n",
    "# Extract and reformat the questions\n",
    "curious_data = []\n",
    "for item in original_data.get(\"questions\", []):\n",
    "    curious_data.append({\n",
    "        \"dataset\": dataset_name,\n",
    "        \"description\": description,\n",
    "        \"question\": item.get(\"question\", \"unknown_question\"),\n",
    "        \"answer\": item.get(\"answer\", \"unknown_answer\"),\n",
    "        \"source\": item.get(\"source\", \"unknown_source\")\n",
    "    })\n"
   ]
  },
  {
   "cell_type": "code",
   "execution_count": 2,
   "id": "cbe1dee5-fc41-434f-95af-4bf725616655",
   "metadata": {},
   "outputs": [
    {
     "data": {
      "text/plain": [
       "{'dataset': 'im-feeling-curious',\n",
       " 'description': 'A collection of interesting Q&A pairs.',\n",
       " 'question': 'Who said a journey of a thousand miles begins with a single step?',\n",
       " 'answer': 'In this quote, Lao Tzu is trying to express that great things start from humble beginnings. In the original, the text refers to \"1,000 li journey\". A li is an old Chinese measure of distance which converts to 360 miles or 576 km.e.',\n",
       " 'source': 'http://www.bbc.co.uk/worldservice/learningenglish/movingwords/shortlist/laotzu.shtml'}"
      ]
     },
     "execution_count": 2,
     "metadata": {},
     "output_type": "execute_result"
    }
   ],
   "source": [
    "curious_data[0]"
   ]
  },
  {
   "cell_type": "code",
   "execution_count": 3,
   "id": "2677b744-a8a2-4002-b69b-ea5b47569235",
   "metadata": {},
   "outputs": [
    {
     "data": {
      "text/plain": [
       "100"
      ]
     },
     "execution_count": 3,
     "metadata": {},
     "output_type": "execute_result"
    }
   ],
   "source": [
    "len(curious_data)"
   ]
  },
  {
   "cell_type": "code",
   "execution_count": 4,
   "id": "a02079ee-030d-485e-a7c9-d9084608ec77",
   "metadata": {},
   "outputs": [
    {
     "data": {
      "text/plain": [
       "ObjectApiResponse({'name': '3e071fe0cf03', 'cluster_name': 'docker-cluster', 'cluster_uuid': 'X4q0FcT7TlmIiW9wJfOyVg', 'version': {'number': '8.4.3', 'build_flavor': 'default', 'build_type': 'docker', 'build_hash': '42f05b9372a9a4a470db3b52817899b99a76ee73', 'build_date': '2022-10-04T07:17:24.662462378Z', 'build_snapshot': False, 'lucene_version': '9.3.0', 'minimum_wire_compatibility_version': '7.17.0', 'minimum_index_compatibility_version': '7.0.0'}, 'tagline': 'You Know, for Search'})"
      ]
     },
     "execution_count": 4,
     "metadata": {},
     "output_type": "execute_result"
    }
   ],
   "source": [
    "from elasticsearch import Elasticsearch\n",
    "\n",
    "es = Elasticsearch(\"http://localhost:9200\")\n",
    "es.info()"
   ]
  },
  {
   "cell_type": "code",
   "execution_count": 32,
   "id": "01a81936-38d1-4c7e-9c7c-ca661e55f511",
   "metadata": {},
   "outputs": [
    {
     "data": {
      "text/plain": [
       "ObjectApiResponse({'acknowledged': True, 'shards_acknowledged': True, 'index': 'im-curious-question'})"
      ]
     },
     "execution_count": 32,
     "metadata": {},
     "output_type": "execute_result"
    }
   ],
   "source": [
    "index_settings = {\n",
    "    \"settings\": {\n",
    "        \"number_of_shards\": 1,\n",
    "        \"number_of_replicas\": 0\n",
    "    },\n",
    "    \"mappings\": {\n",
    "        \"properties\": {\n",
    "            \"dataset\": {\"type\": \"keyword\"},\n",
    "            \"description\": {\"type\": \"text\"},\n",
    "            \"question\": {\"type\": \"text\"},\n",
    "            \"answer\": {\"type\": \"text\"},\n",
    "            \"source\": {\"type\": \"keyword\"} \n",
    "        }\n",
    "    }\n",
    "}\n",
    "\n",
    "index_name = \"im-curious-question\"\n",
    "response = es.indices.create(index=index_name, body=index_settings)\n",
    "\n",
    "response"
   ]
  },
  {
   "cell_type": "code",
   "execution_count": 33,
   "id": "a1bd5b73-d0c7-4379-96a8-bc63d884c3b6",
   "metadata": {},
   "outputs": [
    {
     "name": "stderr",
     "output_type": "stream",
     "text": [
      "100%|██████████████████████████████████████████████████████████████████████████████████████████████████████| 100/100 [00:02<00:00, 38.88it/s]\n"
     ]
    }
   ],
   "source": [
    "from tqdm.auto import tqdm\n",
    "\n",
    "for doc in tqdm(curious_data):\n",
    "    es.index(index=index_name, document=doc)"
   ]
  },
  {
   "cell_type": "code",
   "execution_count": 34,
   "id": "810e3ddf-3c67-4ff7-bebd-38834ddee60b",
   "metadata": {},
   "outputs": [],
   "source": [
    "user_question = 'Which finger nail grows the fastest?'"
   ]
  },
  {
   "cell_type": "code",
   "execution_count": 35,
   "id": "1f8d01ad-e8cf-4357-bf3e-ebbd4787add9",
   "metadata": {},
   "outputs": [],
   "source": [
    "search_query = {\n",
    "    \"size\": 5,\n",
    "    \"query\": {\n",
    "        \"bool\": {\n",
    "            \"must\": {\n",
    "                \"multi_match\": {\n",
    "                    \"query\": user_question,\n",
    "                    \"fields\": [\"question^3\", \"answer\", \"source\"],\n",
    "                    \"type\": \"best_fields\"\n",
    "                }\n",
    "            },\n",
    "            \"filter\": {\n",
    "                \"term\": {\n",
    "                    \"dataset\": \"im-feeling-curious\"\n",
    "                }\n",
    "            }\n",
    "        }\n",
    "    }\n",
    "}"
   ]
  },
  {
   "cell_type": "code",
   "execution_count": 36,
   "id": "bfed1429-107d-40b8-8a2f-97a9f1923944",
   "metadata": {},
   "outputs": [
    {
     "data": {
      "text/plain": [
       "ObjectApiResponse({'took': 15, 'timed_out': False, '_shards': {'total': 1, 'successful': 1, 'skipped': 0, 'failed': 0}, 'hits': {'total': {'value': 95, 'relation': 'eq'}, 'max_score': 62.97205, 'hits': [{'_index': 'im-curious-question', '_id': 'rRDhDZABiE16chhd2SKG', '_score': 62.97205, '_source': {'dataset': 'im-feeling-curious', 'description': 'A collection of interesting Q&A pairs.', 'question': 'Which finger nail grows the fastest?', 'answer': \"On average, fingernails grow about one tenth of an inch in a month. The fastest growing nail is the one on your middle finger. The slowest growing nail is your thumb nail. Freshly cut nails grow faster than nails that aren't cut regularly.\", 'source': 'http://www.cutexnails.com/nail-care-center/nail-facts'}}, {'_index': 'im-curious-question', '_id': '5RDhDZABiE16chhd3yId', '_score': 12.886654, '_source': {'dataset': 'im-feeling-curious', 'description': 'A collection of interesting Q&A pairs.', 'question': 'Why is the wedding ring worn on the ring finger?', 'answer': \"According to a tradition believed to have been derived from the Romans, the wedding ring is worn on the left hand ring finger because there was thought to be a vein in the finger, referred to as the 'Vena Amoris' or the 'Vein of Love' said to be directly connected to the heart.\", 'source': 'http://www.todayifoundout.com/index.php/2010/09/the-origin-of-wedding-rings-and-why-theyre-worn-on-the-4th-finger-of-the-left-hand/'}}, {'_index': 'im-curious-question', '_id': 'txDhDZABiE16chhd2iJ7', '_score': 9.522737, '_source': {'dataset': 'im-feeling-curious', 'description': 'A collection of interesting Q&A pairs.', 'question': 'Which Star Wars has the Ewoks?', 'answer': 'They first appeared in the film Star Wars Episode VI: Return of the Jedi (1983). They have since been featured in two made-for-television films, Caravan of Courage: An Ewok Adventure and Ewoks: The Battle for Endor, as well as an animated series and several books and games.', 'source': 'http://en.m.wikipedia.org/wiki/Ewok'}}, {'_index': 'im-curious-question', '_id': 'zRDhDZABiE16chhd3CLF', '_score': 9.522737, '_source': {'dataset': 'im-feeling-curious', 'description': 'A collection of interesting Q&A pairs.', 'question': 'Which is the worlds smallest country?', 'answer': \"Based on landmass, Vatican City is the smallest country in the world, measuring just 0.2 square miles, almost 120 times smaller than the island of Manhattan. Situated on the western bank of the Tiber River, Vatican City's two-mile border is landlocked by Italy.\", 'source': 'http://www.history.com/news/ask-history/what-is-the-smallest-country-in-the-world'}}, {'_index': 'im-curious-question', '_id': 'zhDhDZABiE16chhd3CLe', '_score': 9.522737, '_source': {'dataset': 'im-feeling-curious', 'description': 'A collection of interesting Q&A pairs.', 'question': 'Which element has the greatest density?', 'answer': 'For chemistry students and teachers: The tabular chart on the right is arranged by Atomic number. The first chemical element with the lowest density is Hydrogen and the highest density is Osmium.', 'source': 'http://www.lenntech.com/periodic-chart-elements/density.htm'}}]}})"
      ]
     },
     "execution_count": 36,
     "metadata": {},
     "output_type": "execute_result"
    }
   ],
   "source": [
    "response = es.search(index=index_name, body=search_query)\n",
    "response"
   ]
  },
  {
   "cell_type": "code",
   "execution_count": 40,
   "id": "c21da234-bcc7-4c88-a20a-fa2b5de1f0e8",
   "metadata": {},
   "outputs": [
    {
     "name": "stdout",
     "output_type": "stream",
     "text": [
      "Source: http://www.cutexnails.com/nail-care-center/nail-facts\n",
      "Question: Which finger nail grows the fastest?\n",
      "Answer: On average, fingernails grow about one tenth of an inch in a month. The fastest growing nail is the one on your middle finger. The slowest growing nail is your thumb nail. Freshly cut nails grow faster than nails that aren't cut regularly.\n",
      "\n",
      "\n",
      "Source: http://www.todayifoundout.com/index.php/2010/09/the-origin-of-wedding-rings-and-why-theyre-worn-on-the-4th-finger-of-the-left-hand/\n",
      "Question: Why is the wedding ring worn on the ring finger?\n",
      "Answer: According to a tradition believed to have been derived from the Romans, the wedding ring is worn on the left hand ring finger because there was thought to be a vein in the finger, referred to as the 'Vena Amoris' or the 'Vein of Love' said to be directly connected to the heart.\n",
      "\n",
      "\n",
      "Source: http://en.m.wikipedia.org/wiki/Ewok\n",
      "Question: Which Star Wars has the Ewoks?\n",
      "Answer: They first appeared in the film Star Wars Episode VI: Return of the Jedi (1983). They have since been featured in two made-for-television films, Caravan of Courage: An Ewok Adventure and Ewoks: The Battle for Endor, as well as an animated series and several books and games.\n",
      "\n",
      "\n",
      "Source: http://www.history.com/news/ask-history/what-is-the-smallest-country-in-the-world\n",
      "Question: Which is the worlds smallest country?\n",
      "Answer: Based on landmass, Vatican City is the smallest country in the world, measuring just 0.2 square miles, almost 120 times smaller than the island of Manhattan. Situated on the western bank of the Tiber River, Vatican City's two-mile border is landlocked by Italy.\n",
      "\n",
      "\n",
      "Source: http://www.lenntech.com/periodic-chart-elements/density.htm\n",
      "Question: Which element has the greatest density?\n",
      "Answer: For chemistry students and teachers: The tabular chart on the right is arranged by Atomic number. The first chemical element with the lowest density is Hydrogen and the highest density is Osmium.\n",
      "\n",
      "\n"
     ]
    }
   ],
   "source": [
    "for hit in response['hits']['hits']:\n",
    "    doc = hit['_source']\n",
    "    print(f\"Source: {doc['source']}\\nQuestion: {doc['question']}\\nAnswer: {doc['answer']}\\n\\n\")"
   ]
  },
  {
   "cell_type": "markdown",
   "id": "0182dcb0-f509-4d58-a647-89fdd868fa69",
   "metadata": {},
   "source": [
    "#### Putting it in a function"
   ]
  },
  {
   "cell_type": "code",
   "execution_count": 42,
   "id": "4ee4c93f-c7fd-4f0b-a4fd-357637803418",
   "metadata": {},
   "outputs": [],
   "source": [
    "es = Elasticsearch(\"http://localhost:9200\")\n",
    "\n",
    "def retrieve_documents(query, index_name=\"im-curious-question\", max_results=5):\n",
    "    \n",
    "    search_query = {\n",
    "        \"size\": max_results,\n",
    "        \"query\": {\n",
    "            \"bool\": {\n",
    "                \"must\": {\n",
    "                    \"multi_match\": {\n",
    "                        \"query\": query,\n",
    "                        \"fields\": [\"question^3\", \"answer\", \"source\"],\n",
    "                        \"type\": \"best_fields\"\n",
    "                    }\n",
    "                },\n",
    "                \"filter\": {\n",
    "                    \"term\": {\n",
    "                        \"dataset\": \"im-feeling-curious\"\n",
    "                    }\n",
    "                }\n",
    "            }\n",
    "        }\n",
    "    }\n",
    "    \n",
    "    response = es.search(index=index_name, body=search_query)\n",
    "    documents = [hit['_source'] for hit in response['hits']['hits']]\n",
    "    return documents"
   ]
  },
  {
   "cell_type": "code",
   "execution_count": 44,
   "id": "c58f2749-a423-406c-9dc2-9e61f855ad5f",
   "metadata": {},
   "outputs": [
    {
     "name": "stdout",
     "output_type": "stream",
     "text": [
      "Source: http://www.cutexnails.com/nail-care-center/nail-facts\n",
      "Question: Which finger nail grows the fastest?\n",
      "Answer: On average, fingernails grow about one tenth of an inch in a month. The fastest growing nail is the one on your middle finger. The slowest growing nail is your thumb nail. Freshly cut nails grow faster than nails that aren't cut regularly.\n",
      "\n",
      "\n",
      "Source: http://www.todayifoundout.com/index.php/2010/09/the-origin-of-wedding-rings-and-why-theyre-worn-on-the-4th-finger-of-the-left-hand/\n",
      "Question: Why is the wedding ring worn on the ring finger?\n",
      "Answer: According to a tradition believed to have been derived from the Romans, the wedding ring is worn on the left hand ring finger because there was thought to be a vein in the finger, referred to as the 'Vena Amoris' or the 'Vein of Love' said to be directly connected to the heart.\n",
      "\n",
      "\n",
      "Source: http://en.m.wikipedia.org/wiki/Ewok\n",
      "Question: Which Star Wars has the Ewoks?\n",
      "Answer: They first appeared in the film Star Wars Episode VI: Return of the Jedi (1983). They have since been featured in two made-for-television films, Caravan of Courage: An Ewok Adventure and Ewoks: The Battle for Endor, as well as an animated series and several books and games.\n",
      "\n",
      "\n",
      "Source: http://www.history.com/news/ask-history/what-is-the-smallest-country-in-the-world\n",
      "Question: Which is the worlds smallest country?\n",
      "Answer: Based on landmass, Vatican City is the smallest country in the world, measuring just 0.2 square miles, almost 120 times smaller than the island of Manhattan. Situated on the western bank of the Tiber River, Vatican City's two-mile border is landlocked by Italy.\n",
      "\n",
      "\n",
      "Source: http://www.lenntech.com/periodic-chart-elements/density.htm\n",
      "Question: Which element has the greatest density?\n",
      "Answer: For chemistry students and teachers: The tabular chart on the right is arranged by Atomic number. The first chemical element with the lowest density is Hydrogen and the highest density is Osmium.\n",
      "\n",
      "\n"
     ]
    }
   ],
   "source": [
    "user_question = \"Which finger nail grows the fastest?\"\n",
    "\n",
    "response = retrieve_documents(user_question)\n",
    "\n",
    "for doc in response:\n",
    "    print(f\"Source: {doc['source']}\\nQuestion: {doc['question']}\\nAnswer: {doc['answer']}\\n\\n\")"
   ]
  },
  {
   "cell_type": "code",
   "execution_count": 46,
   "id": "77cf73f5-b214-4e33-8bb7-fb0ae30f0c47",
   "metadata": {},
   "outputs": [
    {
     "name": "stdout",
     "output_type": "stream",
     "text": [
      "The term \"energy\" can refer to various forms of energy in physics, and the formula used to calculate energy typically depends on the type of energy being considered. Here are some of the key formulas for different types of energy:\n",
      "\n",
      "1. **Kinetic Energy (KE):**\n",
      "   \\[\n",
      "   KE = \\frac{1}{2}mv^2\n",
      "   \\]\n",
      "   where \\( m \\) is the mass of the object and \\( v \\) is its velocity.\n",
      "\n",
      "2. **Potential Energy (Gravitational Potential Energy) (PE):**\n",
      "   \\[\n",
      "   PE = mgh\n",
      "   \\]\n",
      "   where \\( m \\) is the mass, \\( g \\) is the acceleration due to gravity, and \\( h \\) is the height above a reference point.\n",
      "\n",
      "3. **Elastic Potential Energy:**\n",
      "   \\[\n",
      "   PE_{elastic} = \\frac{1}{2}kx^2\n",
      "   \\]\n",
      "   where \\( k \\) is the spring constant and \\( x \\) is the displacement from the equilibrium position.\n",
      "\n",
      "4. **Thermal Energy (Internal Energy):**\n",
      "   \\[\n",
      "   Q = mc\\Delta T\n",
      "   \\]\n",
      "   where \\( Q \\) is the thermal energy, \\( m \\) is the mass, \\( c \\) is the specific heat capacity, and \\( \\Delta T \\) is the change in temperature.\n",
      "\n",
      "5. **Electromagnetic Energy (Energy of a Photon):**\n",
      "   \\[\n",
      "   E = hf\n",
      "   \\]\n",
      "   where \\( E \\) is the energy, \\( h \\) is Planck's constant, and \\( f \\) is the frequency of the photon.\n",
      "\n",
      "6. **Rest Mass Energy (from Einstein's Theory of Relativity):**\n",
      "   \\[\n",
      "   E = mc^2\n",
      "   \\]\n",
      "   where \\( E \\) is the energy, \\( m \\) is the rest mass, and \\( c \\) is the speed of light in a vacuum.\n",
      "\n",
      "Each of these formulas applies to a specific context or type of energy. The selection of the appropriate formula depends on the physical situation being described.\n"
     ]
    }
   ],
   "source": [
    "from openai import OpenAI\n",
    "\n",
    "client = OpenAI()\n",
    "\n",
    "response = client.chat.completions.create(\n",
    "    model=\"gpt-4o\",\n",
    "    messages=[{\"role\": \"user\", \"content\": \"What's the formula for Energy?\"}]\n",
    ")\n",
    "print(response.choices[0].message.content)"
   ]
  },
  {
   "cell_type": "code",
   "execution_count": 69,
   "id": "27ab6390-c346-4e49-898c-0cc2740ca9a1",
   "metadata": {},
   "outputs": [
    {
     "name": "stdout",
     "output_type": "stream",
     "text": [
      "Source: http://www.cutexnails.com/nail-care-center/nail-facts\n",
      "Question: Which finger nail grows the fastest?\n",
      "Answer: On average, fingernails grow about one tenth of an inch in a month. The fastest growing nail is the one on your middle finger. The slowest growing nail is your thumb nail. Freshly cut nails grow faster than nails that aren't cut regularly.\n",
      "\n",
      "Source: http://www.todayifoundout.com/index.php/2010/09/the-origin-of-wedding-rings-and-why-theyre-worn-on-the-4th-finger-of-the-left-hand/\n",
      "Question: Why is the wedding ring worn on the ring finger?\n",
      "Answer: According to a tradition believed to have been derived from the Romans, the wedding ring is worn on the left hand ring finger because there was thought to be a vein in the finger, referred to as the 'Vena Amoris' or the 'Vein of Love' said to be directly connected to the heart.\n",
      "\n",
      "Source: http://en.m.wikipedia.org/wiki/Ewok\n",
      "Question: Which Star Wars has the Ewoks?\n",
      "Answer: They first appeared in the film Star Wars Episode VI: Return of the Jedi (1983). They have since been featured in two made-for-television films, Caravan of Courage: An Ewok Adventure and Ewoks: The Battle for Endor, as well as an animated series and several books and games.\n",
      "\n",
      "Source: http://www.history.com/news/ask-history/what-is-the-smallest-country-in-the-world\n",
      "Question: Which is the worlds smallest country?\n",
      "Answer: Based on landmass, Vatican City is the smallest country in the world, measuring just 0.2 square miles, almost 120 times smaller than the island of Manhattan. Situated on the western bank of the Tiber River, Vatican City's two-mile border is landlocked by Italy.\n",
      "\n",
      "Source: http://www.lenntech.com/periodic-chart-elements/density.htm\n",
      "Question: Which element has the greatest density?\n",
      "Answer: For chemistry students and teachers: The tabular chart on the right is arranged by Atomic number. The first chemical element with the lowest density is Hydrogen and the highest density is Osmium.\n"
     ]
    }
   ],
   "source": [
    "context_docs = retrieve_documents(user_question)\n",
    "\n",
    "context = \"\"\n",
    "\n",
    "for doc in context_docs:\n",
    "    doc_str = f\"Source: {doc['source']}\\nQuestion: {doc['question']}\\nAnswer: {doc['answer']}\\n\\n\"\n",
    "    context += doc_str\n",
    "\n",
    "context = context.strip()\n",
    "print(context)"
   ]
  },
  {
   "cell_type": "code",
   "execution_count": 73,
   "id": "d751ca36-eade-4742-a7ba-4448aa39dabd",
   "metadata": {},
   "outputs": [],
   "source": [
    "prompt = f\"\"\"\n",
    "You're a course teaching assistant. Answer the user QUESTION based on CONTEXT - the documents retrieved from our Inquisitive database. \n",
    "Only use the facts from the CONTEXT. If the CONTEXT doesn't contan the answer, return \"NONE\"\n",
    "\n",
    "QUESTION: {user_question}\n",
    "\n",
    "CONTEXT:\n",
    "\n",
    "{context}\n",
    "\"\"\""
   ]
  },
  {
   "cell_type": "code",
   "execution_count": 74,
   "id": "c15293fd-2a48-4385-bb1d-c82af8b7a28e",
   "metadata": {},
   "outputs": [
    {
     "data": {
      "text/plain": [
       "'\\nYou\\'re a course teaching assistant. Answer the user QUESTION based on CONTEXT - the documents retrieved from our Inquisitive database. \\nOnly use the facts from the CONTEXT. If the CONTEXT doesn\\'t contan the answer, return \"NONE\"\\n\\nQUESTION: Which finger nail grows the fastest?\\n\\nCONTEXT:\\n\\nSource: http://www.cutexnails.com/nail-care-center/nail-facts\\nQuestion: Which finger nail grows the fastest?\\nAnswer: On average, fingernails grow about one tenth of an inch in a month. The fastest growing nail is the one on your middle finger. The slowest growing nail is your thumb nail. Freshly cut nails grow faster than nails that aren\\'t cut regularly.\\n\\nSource: http://www.todayifoundout.com/index.php/2010/09/the-origin-of-wedding-rings-and-why-theyre-worn-on-the-4th-finger-of-the-left-hand/\\nQuestion: Why is the wedding ring worn on the ring finger?\\nAnswer: According to a tradition believed to have been derived from the Romans, the wedding ring is worn on the left hand ring finger because there was thought to be a vein in the finger, referred to as the \\'Vena Amoris\\' or the \\'Vein of Love\\' said to be directly connected to the heart.\\n\\nSource: http://en.m.wikipedia.org/wiki/Ewok\\nQuestion: Which Star Wars has the Ewoks?\\nAnswer: They first appeared in the film Star Wars Episode VI: Return of the Jedi (1983). They have since been featured in two made-for-television films, Caravan of Courage: An Ewok Adventure and Ewoks: The Battle for Endor, as well as an animated series and several books and games.\\n\\nSource: http://www.history.com/news/ask-history/what-is-the-smallest-country-in-the-world\\nQuestion: Which is the worlds smallest country?\\nAnswer: Based on landmass, Vatican City is the smallest country in the world, measuring just 0.2 square miles, almost 120 times smaller than the island of Manhattan. Situated on the western bank of the Tiber River, Vatican City\\'s two-mile border is landlocked by Italy.\\n\\nSource: http://www.lenntech.com/periodic-chart-elements/density.htm\\nQuestion: Which element has the greatest density?\\nAnswer: For chemistry students and teachers: The tabular chart on the right is arranged by Atomic number. The first chemical element with the lowest density is Hydrogen and the highest density is Osmium.\\n'"
      ]
     },
     "execution_count": 74,
     "metadata": {},
     "output_type": "execute_result"
    }
   ],
   "source": [
    "prompt"
   ]
  },
  {
   "cell_type": "code",
   "execution_count": 77,
   "id": "96346144-af6f-4263-9539-941667f1325f",
   "metadata": {},
   "outputs": [
    {
     "data": {
      "text/plain": [
       "'The fastest growing fingernail is the one on your middle finger.   (Source: http://www.cutexnails.com/nail-care-center/nail-facts)'"
      ]
     },
     "execution_count": 77,
     "metadata": {},
     "output_type": "execute_result"
    }
   ],
   "source": [
    "response = client.chat.completions.create(\n",
    "    model=\"gpt-4o\",\n",
    "    messages=[{\"role\": \"user\", \"content\": prompt}]\n",
    ")\n",
    "answer = response.choices[0].message.content\n",
    "reply = answer.replace(\"\\n\", \" \")\n",
    "reply"
   ]
  },
  {
   "cell_type": "code",
   "execution_count": 78,
   "id": "2a9aa59a-f803-46b0-8627-42473d4f7bc4",
   "metadata": {},
   "outputs": [],
   "source": [
    "def build_context(documents):\n",
    "    context = \"\"\n",
    "\n",
    "    for doc in documents:\n",
    "        doc_str = f\"Source: {doc['source']}\\nQuestion: {doc['question']}\\nAnswer: {doc['answer']}\\n\\n\"\n",
    "        context += doc_str\n",
    "    \n",
    "    context = context.strip()\n",
    "    return context\n",
    "\n",
    "\n",
    "def build_prompt(user_question, documents):\n",
    "    context = build_context(curious_data)\n",
    "    return f\"\"\"\n",
    "You're a course teaching assistant.\n",
    "Answer the user QUESTION based on CONTEXT - the documents retrieved from our INQUISITIVE MINDS database.\n",
    "Don't use other information outside of the provided CONTEXT.  \n",
    "\n",
    "QUESTION: {user_question}\n",
    "\n",
    "CONTEXT:\n",
    "\n",
    "{context}\n",
    "\"\"\".strip()\n",
    "\n",
    "def ask_openai(prompt, model=\"gpt-4o\"):\n",
    "    response = client.chat.completions.create(\n",
    "        model=\"gpt-4o\",\n",
    "        messages=[{\"role\": \"user\", \"content\": prompt}]\n",
    "    )\n",
    "    answer = response.choices[0].message.content\n",
    "    reply = answer.replace(\"\\n\", \" \")\n",
    "    return reply\n",
    "\n",
    "def qa_bot(user_question):\n",
    "    context_docs = retrieve_documents(user_question)\n",
    "    prompt = build_prompt(user_question, context_docs)\n",
    "    answer = ask_openai(prompt)\n",
    "    return answer"
   ]
  },
  {
   "cell_type": "code",
   "execution_count": null,
   "id": "a601acc4-5cd6-4f20-9034-0aff87b16aca",
   "metadata": {},
   "outputs": [],
   "source": [
    "qa_bot(\"I'm getting invalid reference format: repository name must be lowercase\")\n",
    "\n",
    "qa_bot(\"I can't connect to postgres port 5432, my password doesn't work\")\n",
    "\n",
    "qa_bot(\"how can I run kafka?\")"
   ]
  },
  {
   "cell_type": "code",
   "execution_count": 79,
   "id": "ec39e49c-7cf6-48eb-b4f8-d5feb871567c",
   "metadata": {},
   "outputs": [
    {
     "data": {
      "text/plain": [
       "'The error \"invalid reference format: repository name must be lowercase\" likely arises because repository names in version control systems like GitHub are case-sensitive and must adhere to certain format rules. Specifically, they typically need to be in lowercase.  To resolve this issue, ensure that the repository name you are using is completely in lowercase. For example, if your repository name is \"MyRepo\", change it to \"myrepo\".  Example: Invalid: `docker pull USERNAME/MyRepo:latest` Valid: `docker pull username/myrepo:latest`'"
      ]
     },
     "execution_count": 79,
     "metadata": {},
     "output_type": "execute_result"
    }
   ],
   "source": [
    "qa_bot(\"I'm getting invalid reference format: repository name must be lowercase\")"
   ]
  },
  {
   "cell_type": "code",
   "execution_count": null,
   "id": "95c4751b-2363-4df7-a694-c6ff997979ae",
   "metadata": {},
   "outputs": [],
   "source": []
  }
 ],
 "metadata": {
  "kernelspec": {
   "display_name": "Python 3 (ipykernel)",
   "language": "python",
   "name": "python3"
  },
  "language_info": {
   "codemirror_mode": {
    "name": "ipython",
    "version": 3
   },
   "file_extension": ".py",
   "mimetype": "text/x-python",
   "name": "python",
   "nbconvert_exporter": "python",
   "pygments_lexer": "ipython3",
   "version": "3.10.13"
  }
 },
 "nbformat": 4,
 "nbformat_minor": 5
}
